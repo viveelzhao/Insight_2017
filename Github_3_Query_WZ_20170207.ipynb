{
 "cells": [
  {
   "cell_type": "markdown",
   "metadata": {},
   "source": [
    "### 8. Load in tfidf vectorizer and SGD regressor models\n",
    "### 9. Query input text\n",
    " * Input:  \n",
    "  The main function query_predict takes text string as input. It is not mandatory to include the job title, but including the job title does improve the prediction accuracy. You also have the option to specify the career cluster\n",
    "to predict the most accurate results.\n",
    "\n",
    "* Pipeline:  \n",
    "The query text will go through the pipeline of tfidf vectorization, score prediction by regression models, and search nearest jobs based on skills score in the trainig data. The scores returned to final results are normalized to percentile. However, the scores used for calculating distances between jobs are not normalized.       \n",
    "\n",
    "\n",
    "* Output:  \n",
    "The output results contain the top 10 skills and knowledge required for the query job. It also recommends most similar jobs to the query job. To protect proprietary information, only generic job titles from O*NET will be displayed. "
   ]
  },
  {
   "cell_type": "markdown",
   "metadata": {
    "collapsed": true
   },
   "source": [
    "## 0. Load in Library"
   ]
  },
  {
   "cell_type": "code",
   "execution_count": 1,
   "metadata": {
    "collapsed": false
   },
   "outputs": [],
   "source": [
    "import re\n",
    "import pandas as pd\n",
    "import string\n",
    "import numpy as np\n",
    "from sklearn.metrics.pairwise import pairwise_distances\n",
    "from sklearn.feature_extraction.text import TfidfVectorizer\n",
    "from sklearn.feature_extraction import text \n",
    "from sklearn.pipeline import Pipeline\n",
    "from sklearn.grid_search import GridSearchCV\n",
    "from sklearn import linear_model\n",
    "from sklearn.externals import joblib\n",
    "from sklearn.metrics.pairwise import pairwise_distances\n",
    "from collections import defaultdict\n",
    "from sklearn.neighbors import NearestNeighbors\n",
    "from scipy.stats import percentileofscore\n",
    "from sklearn.metrics import pairwise\n",
    "import matplotlib.pyplot as plt\n",
    "%matplotlib inline\n",
    "from scipy import stats\n",
    "import json\n",
    "import io"
   ]
  },
  {
   "cell_type": "markdown",
   "metadata": {},
   "source": [
    "* Load in stopwords list, and predictor names"
   ]
  },
  {
   "cell_type": "code",
   "execution_count": 2,
   "metadata": {
    "collapsed": true
   },
   "outputs": [],
   "source": [
    "def readJson(filename):\n",
    "    with open(filename,'r') as f:\n",
    "        s = json.load(f)\n",
    "    return s\n",
    "\n",
    "predictors = readJson('predictors.json')\n",
    "all_predictors=predictors['Knowledge']+predictors['Skills']\n",
    "\n",
    "my_stop_words = set(readJson('stopwords.json'))\n"
   ]
  },
  {
   "cell_type": "markdown",
   "metadata": {},
   "source": [
    "## 8. Load in Models and Matrix for Distance Calculation "
   ]
  },
  {
   "cell_type": "code",
   "execution_count": 106,
   "metadata": {
    "collapsed": false
   },
   "outputs": [],
   "source": [
    "tfidf_vect = joblib.load(\"score_model_2/tfidf.vect\")\n",
    "best_estimator={}\n",
    "for predictor in all_predictors:\n",
    "    best_estimator[predictor] = joblib.load(\"score_model_2/\"+predictor+\".sgd\")"
   ]
  },
  {
   "cell_type": "code",
   "execution_count": 107,
   "metadata": {
    "collapsed": false
   },
   "outputs": [],
   "source": [
    "listing_train_normalized_score_df = pd.read_csv('score_model_2/listing_train_normalized_score.csv')\n",
    "listing_train_for_query_df = pd.read_csv('score_model_2/listing_train_for_query.csv')"
   ]
  },
  {
   "cell_type": "code",
   "execution_count": 148,
   "metadata": {
    "collapsed": false
   },
   "outputs": [
    {
     "data": {
      "text/plain": [
       "array(['Government & Public Administration', 'Architecture & Construction',\n",
       "       'Finance', 'Marketing', 'Hospitality & Tourism', 'Manufacturing',\n",
       "       'Human Services', 'Science, Technology, Engineering & Mathematics',\n",
       "       'Law, Public Safety, Corrections & Security', 'Health Science',\n",
       "       'Information Technology', 'Education & Training',\n",
       "       'Business Management & Administration',\n",
       "       'Transportation, Distribution & Logistics',\n",
       "       'Arts, Audio/Video Technology & Communications',\n",
       "       'Agriculture, Food & Natural Resources', nan], dtype=object)"
      ]
     },
     "execution_count": 148,
     "metadata": {},
     "output_type": "execute_result"
    }
   ],
   "source": [
    "listing_train_for_query_df['Career Cluster'].unique()"
   ]
  },
  {
   "cell_type": "markdown",
   "metadata": {},
   "source": [
    "* my_prediction function input: query dataframe, tfidf vectorizer, SGD Models"
   ]
  },
  {
   "cell_type": "code",
   "execution_count": 108,
   "metadata": {
    "collapsed": false
   },
   "outputs": [],
   "source": [
    "class my_prediction:\n",
    "    def __init__(self,query_df,tfidf_vect,models):\n",
    "        self.query_df = query_df\n",
    "        self.tfidf_vect = tfidf_vect\n",
    "        self.models = models\n",
    "        self.clean_text()\n",
    "        self.vectorizer()\n",
    "\n",
    "    def clean_text(self):\n",
    "        self.query_df['clean_text'] = self.query_df['text'].apply(lambda x: re.sub(r'\\s',' ', x).lower())\n",
    "\n",
    "    def vectorizer(self):\n",
    "        self.query_matrix = self.tfidf_vect.transform(self.query_df['clean_text'])\n",
    "        return self\n",
    "\n",
    "    def predict_score(self):\n",
    "        self.score_df = self.query_df.copy()\n",
    "        if len(self.query_matrix.nonzero()[1]) == 0:\n",
    "            for predictor in self.models.keys():\n",
    "                self.score_df[predictor] = 0\n",
    "      \n",
    "        else:     \n",
    "            for predictor in self.models.keys():     \n",
    "                prediction = self.models[predictor].predict(self.query_matrix)\n",
    "                self.score_df[predictor]=prediction\n",
    "        return self.score_df"
   ]
  },
  {
   "cell_type": "markdown",
   "metadata": {},
   "source": [
    "* function for normalizing the predicted score to percentile\n",
    "* The calculation refers to train data set predicted scores. "
   ]
  },
  {
   "cell_type": "code",
   "execution_count": 109,
   "metadata": {
    "collapsed": true
   },
   "outputs": [],
   "source": [
    "def cal_percentile(s,col):\n",
    "    score = percentileofscore(listing_train_for_query_df[col].values, s, kind='mean')\n",
    "    return score\n",
    "\n",
    "def normalize_score(df,all_predictors):\n",
    "    df_normalized = df.copy()\n",
    "    for col in all_predictors:       \n",
    "        df_normalized[col]=df[col].apply(lambda x: cal_percentile(x,col))\n",
    "    return df_normalized"
   ]
  },
  {
   "cell_type": "markdown",
   "metadata": {},
   "source": [
    "## 9. Query input text"
   ]
  },
  {
   "cell_type": "code",
   "execution_count": 126,
   "metadata": {
    "collapsed": false
   },
   "outputs": [],
   "source": [
    "def get_nearest_jobs(query_score,cols = all_predictors,c_cluster=None):\n",
    "    recommended_jobs=defaultdict(dict)\n",
    "    if c_cluster:\n",
    "        subset_train= listing_train_for_query_df.loc[listing_train_for_query_df['Career Cluster']==c_cluster,:]\n",
    "        nn = NearestNeighbors(n_neighbors=50, algorithm='brute', metric='euclidean', n_jobs=1)\n",
    "        nn.fit(subset_train[cols])\n",
    "        nn_index = nn.radius_neighbors(query_score[cols],radius=2.0, return_distance=True)   \n",
    "        for i,index in enumerate(nn_index[1][0]):\n",
    "            [job,cluster] = subset_train.iloc[index][['Occupation','Career Cluster']] \n",
    "            recommended_jobs[i]['job']=job\n",
    "            recommended_jobs[i]['career cluster']= c_cluster\n",
    "        return recommended_jobs\n",
    " \n",
    "    else:\n",
    "        nn = NearestNeighbors(n_neighbors=50, algorithm='brute', metric='euclidean', n_jobs=1)\n",
    "        nn.fit(listing_train_for_query_df[cols])\n",
    "        nn_index = nn.kneighbors(query_score[cols],return_distance=True) \n",
    "        for i,index in enumerate(nn_index[1][0]): \n",
    "            if nn_index[0][0][i]<3.0:\n",
    "                [job,cluster] = listing_train_for_query_df.iloc[index][['Occupation','Career Cluster']] \n",
    "                recommended_jobs[i]['job']=job\n",
    "                recommended_jobs[i]['career cluster']= cluster\n",
    "        return recommended_jobs"
   ]
  },
  {
   "cell_type": "code",
   "execution_count": 141,
   "metadata": {
    "collapsed": false
   },
   "outputs": [],
   "source": [
    "def dict_to_list(score_dict):\n",
    "    table_content = []\n",
    "    for i in score_dict:\n",
    "        k = {}\n",
    "        k['name'] = i[0]\n",
    "        k['score'] = int(i[1])\n",
    "        table_content.append(k)\n",
    "    return table_content\n",
    "\n",
    "def order_jobs(jobs_dict, top_k=10):\n",
    "    r_jobs = []\n",
    "    for i, v in enumerate(jobs_dict.values()[0:top_k]):\n",
    "        jobs = {}\n",
    "        jobs['name'] = v['job']\n",
    "        jobs['score'] = v['career cluster']\n",
    "        r_jobs.append(jobs)\n",
    "    return r_jobs\n",
    "\n",
    "def query_predict(query_text, career_cluster):\n",
    "    query_result = []\n",
    "    query_predicted_score = pd.DataFrame()\n",
    "    query_text = re.sub('[^a-zA-Z ]', ' ', query_text)\n",
    "    query_point = pd.DataFrame([{'text': query_text}])\n",
    "    \n",
    "    \n",
    "    query_prediction = my_prediction(query_point, tfidf_vect, best_estimator)\n",
    "    query_predicted_score = query_prediction.predict_score()\n",
    "    query_normalized_score = normalize_score(query_predicted_score, all_predictors)\n",
    "    \n",
    "    skills_score_dict = query_normalized_score[predictors['Skills']].to_dict('records')\n",
    "    skills_score_dict = sorted(skills_score_dict[0].items(), key=lambda (k, v): v, reverse=True)[0:10]\n",
    "    skills_ordered = dict_to_list(skills_score_dict)\n",
    "\n",
    "    knowledge_score_dict = query_normalized_score[predictors['Knowledge']].to_dict('records')\n",
    "    knowledge_score_dict = sorted(knowledge_score_dict[0].items(), key=lambda (k, v): v, reverse=True)[0:10]\n",
    "    knowledge_ordered = dict_to_list(knowledge_score_dict)\n",
    "    query_result.append({'tablename': 'Skills',\n",
    "                         'tablecontents': skills_ordered})\n",
    "    query_result.append({'tablename': 'Knowledge',\n",
    "                         'tablecontents': knowledge_ordered})\n",
    "\n",
    "    recommended_jobs = get_nearest_jobs(query_predicted_score, cols=all_predictors, c_cluster=career_cluster)\n",
    "    recommended_jobs_ordered = order_jobs(recommended_jobs)\n",
    "    query_result.append({'tablename': 'recommended_jobs',\n",
    "                         'tablecontents': recommended_jobs_ordered})\n",
    "\n",
    "\n",
    "    return query_result\n"
   ]
  },
  {
   "cell_type": "code",
   "execution_count": 142,
   "metadata": {
    "collapsed": true
   },
   "outputs": [],
   "source": [
    "input_text='''\n",
    "Entry Level Software Engineer\n",
    "Jersey City, NJFull-time\n",
    "Company Description\n",
    "Netcloudtek LLC is an IT consulting firm strategically focusing on helping clients to increase business potential. We look forward to continuously enhance our world class business practices to consistently deliver pioneering, comprehensive and cost effective Application Development,Project Management,Infrastructure Management, Cloud-Management, Enterprise, Outsourcing, Industrial, Engineering, Information Technology Services & Solutions.\n",
    "Job Description\n",
    "The Entry Level Software Developer is a motivated, energetic, team player who can quickly learn new systems and technologies. This individual will be able to apply their knowledge of software engineering to solve real-world problems for our customers. For this requirement we will hire only GC-EAD, GC, USC, L2-EAD, TPS, Aslyum -EAD visa.\n",
    "\n",
    "Responsibilities:\n",
    "\n",
    "Develop/Test application programs, automated process, and other computer systems from detailed or high-level design documents\n",
    "Program enhancements, code fixes and fulfill ad-hoc requests\n",
    "Improve support processes and procedures\n",
    "Performs other related duties as required or requested\n",
    "Qualifications\n",
    "Education equivalent to Bachelor's Degree in Information Technology, or the equivalent in related work experience\n",
    " '''"
   ]
  },
  {
   "cell_type": "code",
   "execution_count": 152,
   "metadata": {
    "collapsed": false
   },
   "outputs": [],
   "source": [
    "career_clusters ={1:'Government & Public Administration',\n",
    "                  2:'Architecture & Construction',      \n",
    "                  3:'Finance',\n",
    "                  4:'Marketing',\n",
    "                  5:'Hospitality & Tourism',\n",
    "                  6:'Human Services',\n",
    "                  7:'Science, Technology, Engineering & Mathematics',\n",
    "                  8:'Law, Public Safety, Corrections & Security',\n",
    "                  9:'Health Science',\n",
    "                  10:'Information Technology',\n",
    "                  11:'Business Management & Administration',\n",
    "                  12:'Transportation, Distribution & Logistics',\n",
    "                  13:'Arts, Audio/Video Technology & Communications',\n",
    "                  14:'Agriculture, Food & Natural Resources',\n",
    "                  15:'Manufacturing',\n",
    "                  16:'Education & Training'}"
   ]
  },
  {
   "cell_type": "code",
   "execution_count": 153,
   "metadata": {
    "collapsed": false
   },
   "outputs": [],
   "source": [
    "query_result = query_predict(input_text,career_clusters[10]) "
   ]
  },
  {
   "cell_type": "code",
   "execution_count": 154,
   "metadata": {
    "collapsed": false
   },
   "outputs": [
    {
     "data": {
      "text/plain": [
       "[{'tablecontents': [{'name': u'Programming', 'score': 95},\n",
       "   {'name': u'Operations Analysis', 'score': 91},\n",
       "   {'name': u'Technology Design', 'score': 91},\n",
       "   {'name': u'Installation', 'score': 86},\n",
       "   {'name': u'Systems Analysis', 'score': 85},\n",
       "   {'name': u'Mathematics', 'score': 85},\n",
       "   {'name': u'Quality Control Analysis', 'score': 82},\n",
       "   {'name': u'Systems Evaluation', 'score': 80},\n",
       "   {'name': u'Science', 'score': 79},\n",
       "   {'name': u'Troubleshooting', 'score': 77}],\n",
       "  'tablename': 'Skills'},\n",
       " {'tablecontents': [{'name': u'Computers and Electronics', 'score': 97},\n",
       "   {'name': u'Engineering and Technology', 'score': 96},\n",
       "   {'name': u'Telecommunications', 'score': 95},\n",
       "   {'name': u'Design', 'score': 94},\n",
       "   {'name': u'Mathematics_Knowledge', 'score': 90},\n",
       "   {'name': u'Physics', 'score': 86},\n",
       "   {'name': u'Building and Construction', 'score': 72},\n",
       "   {'name': u'Mechanical', 'score': 63},\n",
       "   {'name': u'Production and Processing', 'score': 52},\n",
       "   {'name': u'Economics and Accounting', 'score': 51}],\n",
       "  'tablename': 'Knowledge'},\n",
       " {'tablecontents': [{'name': 'Web Developers',\n",
       "    'score': 'Information Technology'},\n",
       "   {'name': 'Software Developers, Systems Software',\n",
       "    'score': 'Information Technology'},\n",
       "   {'name': 'Computer Network Architects', 'score': 'Information Technology'},\n",
       "   {'name': 'Database Administrators', 'score': 'Information Technology'},\n",
       "   {'name': 'Software Developers, Applications',\n",
       "    'score': 'Information Technology'},\n",
       "   {'name': 'Web Developers', 'score': 'Information Technology'},\n",
       "   {'name': 'Software Developers, Systems Software',\n",
       "    'score': 'Information Technology'},\n",
       "   {'name': 'Database Administrators', 'score': 'Information Technology'},\n",
       "   {'name': 'Computer Systems Analysts', 'score': 'Information Technology'},\n",
       "   {'name': 'Business Intelligence Analysts',\n",
       "    'score': 'Information Technology'}],\n",
       "  'tablename': 'recommended_jobs'}]"
      ]
     },
     "execution_count": 154,
     "metadata": {},
     "output_type": "execute_result"
    }
   ],
   "source": [
    "query_result"
   ]
  }
 ],
 "metadata": {
  "anaconda-cloud": {},
  "kernelspec": {
   "display_name": "Python [conda root]",
   "language": "python",
   "name": "conda-root-py"
  },
  "language_info": {
   "codemirror_mode": {
    "name": "ipython",
    "version": 2
   },
   "file_extension": ".py",
   "mimetype": "text/x-python",
   "name": "python",
   "nbconvert_exporter": "python",
   "pygments_lexer": "ipython2",
   "version": "2.7.12"
  }
 },
 "nbformat": 4,
 "nbformat_minor": 1
}
