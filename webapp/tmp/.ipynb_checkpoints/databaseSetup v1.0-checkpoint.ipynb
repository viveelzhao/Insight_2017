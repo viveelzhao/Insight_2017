{
 "cells": [
  {
   "cell_type": "code",
   "execution_count": 56,
   "metadata": {
    "collapsed": false
   },
   "outputs": [],
   "source": [
    "import pandas as pd\n",
    "import os\n",
    "from sqlalchemy import create_engine\n",
    "import psycopg2"
   ]
  },
  {
   "cell_type": "code",
   "execution_count": 115,
   "metadata": {
    "collapsed": false
   },
   "outputs": [
    {
     "data": {
      "text/plain": [
       "['server starting']"
      ]
     },
     "execution_count": 115,
     "metadata": {},
     "output_type": "execute_result"
    }
   ],
   "source": [
    "%sx pg_ctl -D /usr/local/var/postgres -l /usr/local/var/postgres/server.log start\n",
    "#sx pg_ctl -D /usr/local/var/postgres stop -s -m fast"
   ]
  },
  {
   "cell_type": "code",
   "execution_count": 117,
   "metadata": {
    "collapsed": false
   },
   "outputs": [],
   "source": [
    "class DatabaseOps:\n",
    "    \n",
    "    def __init__(self, host='localhost'):\n",
    "        self.user = 'me'\n",
    "        self.pwd = None\n",
    "        self.host = host\n",
    "        self.table = 'birth_table'\n",
    "    \n",
    "    def readSource(self, source='births2012_downsampled.csv'):\n",
    "        self.df = pd.read_csv(source, index_col=0)\n",
    "        \n",
    "    def connect(self):\n",
    "        if self.pwd:\n",
    "            self.engine = sqlalchemy.create_engine('postgresql://%s:%s@%s/%s' %(self.user, \n",
    "                                                                                self.pwd, \n",
    "                                                                                self.host, \n",
    "                                                                                self.table))\n",
    "        else:\n",
    "            self.engine = sqlalchemy.create_engine('postgresql://%s@%s/%s' %(self.user, \n",
    "                                                                             self.host, \n",
    "                                                                             self.table))\n",
    "        return self\n",
    "            \n",
    "    def writeTable(self):\n",
    "        if not self.df.empty:\n",
    "            self.df.to_sql(self.table, self.engine, if_exists='replace')\n",
    "            print('OK')"
   ]
  },
  {
   "cell_type": "code",
   "execution_count": 118,
   "metadata": {
    "collapsed": true
   },
   "outputs": [],
   "source": [
    "a = DatabaseOps()"
   ]
  },
  {
   "cell_type": "code",
   "execution_count": 119,
   "metadata": {
    "collapsed": false
   },
   "outputs": [],
   "source": [
    "a.readSource()"
   ]
  },
  {
   "cell_type": "code",
   "execution_count": 120,
   "metadata": {
    "collapsed": false
   },
   "outputs": [
    {
     "data": {
      "text/plain": [
       "<__main__.DatabaseOps at 0x112d858d0>"
      ]
     },
     "execution_count": 120,
     "metadata": {},
     "output_type": "execute_result"
    }
   ],
   "source": [
    "a.connect()"
   ]
  },
  {
   "cell_type": "code",
   "execution_count": 121,
   "metadata": {
    "collapsed": false
   },
   "outputs": [
    {
     "ename": "OperationalError",
     "evalue": "(psycopg2.OperationalError) FATAL:  database \"birth_table\" does not exist\n",
     "output_type": "error",
     "traceback": [
      "---------------------------------------------------------------------------",
      "Empty                                     Traceback (most recent call last)",
      "/Users/CIDER/anaconda/lib/python3.5/site-packages/sqlalchemy/pool.py in _do_get(self)\n   1043             wait = use_overflow and self._overflow >= self._max_overflow\n-> 1044             return self._pool.get(wait, self._timeout)\n   1045         except sqla_queue.Empty:\n",
      "/Users/CIDER/anaconda/lib/python3.5/site-packages/sqlalchemy/util/queue.py in get(self, block, timeout)\n    144                 if self._empty():\n--> 145                     raise Empty\n    146             elif timeout is None:\n",
      "Empty: ",
      "\nDuring handling of the above exception, another exception occurred:\n",
      "OperationalError                          Traceback (most recent call last)",
      "/Users/CIDER/anaconda/lib/python3.5/site-packages/sqlalchemy/engine/base.py in _wrap_pool_connect(self, fn, connection)\n   2073         try:\n-> 2074             return fn()\n   2075         except dialect.dbapi.Error as e:\n",
      "/Users/CIDER/anaconda/lib/python3.5/site-packages/sqlalchemy/pool.py in connect(self)\n    375         if not self._use_threadlocal:\n--> 376             return _ConnectionFairy._checkout(self)\n    377 \n",
      "/Users/CIDER/anaconda/lib/python3.5/site-packages/sqlalchemy/pool.py in _checkout(cls, pool, threadconns, fairy)\n    712         if not fairy:\n--> 713             fairy = _ConnectionRecord.checkout(pool)\n    714 \n",
      "/Users/CIDER/anaconda/lib/python3.5/site-packages/sqlalchemy/pool.py in checkout(cls, pool)\n    479     def checkout(cls, pool):\n--> 480         rec = pool._do_get()\n    481         try:\n",
      "/Users/CIDER/anaconda/lib/python3.5/site-packages/sqlalchemy/pool.py in _do_get(self)\n   1059                     with util.safe_reraise():\n-> 1060                         self._dec_overflow()\n   1061             else:\n",
      "/Users/CIDER/anaconda/lib/python3.5/site-packages/sqlalchemy/util/langhelpers.py in __exit__(self, type_, value, traceback)\n     59             self._exc_info = None   # remove potential circular references\n---> 60             compat.reraise(exc_type, exc_value, exc_tb)\n     61         else:\n",
      "/Users/CIDER/anaconda/lib/python3.5/site-packages/sqlalchemy/util/compat.py in reraise(tp, value, tb, cause)\n    185             raise value.with_traceback(tb)\n--> 186         raise value\n    187 \n",
      "/Users/CIDER/anaconda/lib/python3.5/site-packages/sqlalchemy/pool.py in _do_get(self)\n   1056                 try:\n-> 1057                     return self._create_connection()\n   1058                 except:\n",
      "/Users/CIDER/anaconda/lib/python3.5/site-packages/sqlalchemy/pool.py in _create_connection(self)\n    322 \n--> 323         return _ConnectionRecord(self)\n    324 \n",
      "/Users/CIDER/anaconda/lib/python3.5/site-packages/sqlalchemy/pool.py in __init__(self, pool)\n    448         self.__pool = pool\n--> 449         self.connection = self.__connect()\n    450         self.finalize_callback = deque()\n",
      "/Users/CIDER/anaconda/lib/python3.5/site-packages/sqlalchemy/pool.py in __connect(self)\n    606             self.starttime = time.time()\n--> 607             connection = self.__pool._invoke_creator(self)\n    608             self.__pool.logger.debug(\"Created new connection %r\", connection)\n",
      "/Users/CIDER/anaconda/lib/python3.5/site-packages/sqlalchemy/engine/strategies.py in connect(connection_record)\n     96                             return connection\n---> 97                 return dialect.connect(*cargs, **cparams)\n     98 \n",
      "/Users/CIDER/anaconda/lib/python3.5/site-packages/sqlalchemy/engine/default.py in connect(self, *cargs, **cparams)\n    384     def connect(self, *cargs, **cparams):\n--> 385         return self.dbapi.connect(*cargs, **cparams)\n    386 \n",
      "/Users/CIDER/anaconda/lib/python3.5/site-packages/psycopg2/__init__.py in connect(dsn, database, user, password, host, port, connection_factory, cursor_factory, async, **kwargs)\n    163 \n--> 164     conn = _connect(dsn, connection_factory=connection_factory, async=async)\n    165     if cursor_factory is not None:\n",
      "OperationalError: FATAL:  database \"birth_table\" does not exist\n",
      "\nThe above exception was the direct cause of the following exception:\n",
      "OperationalError                          Traceback (most recent call last)",
      "<ipython-input-121-0ed07b6b5136> in <module>()\n----> 1 a.writeTable()\n",
      "<ipython-input-117-cbf64498ff82> in writeTable(self)\n     24     def writeTable(self):\n     25         if not self.df.empty:\n---> 26             self.df.to_sql(self.table, self.engine, if_exists='replace')\n     27             print('OK')\n",
      "/Users/CIDER/anaconda/lib/python3.5/site-packages/pandas/core/generic.py in to_sql(self, name, con, flavor, schema, if_exists, index, index_label, chunksize, dtype)\n   1163         sql.to_sql(self, name, con, flavor=flavor, schema=schema,\n   1164                    if_exists=if_exists, index=index, index_label=index_label,\n-> 1165                    chunksize=chunksize, dtype=dtype)\n   1166 \n   1167     def to_pickle(self, path):\n",
      "/Users/CIDER/anaconda/lib/python3.5/site-packages/pandas/io/sql.py in to_sql(frame, name, con, flavor, schema, if_exists, index, index_label, chunksize, dtype)\n    569     pandas_sql.to_sql(frame, name, if_exists=if_exists, index=index,\n    570                       index_label=index_label, schema=schema,\n--> 571                       chunksize=chunksize, dtype=dtype)\n    572 \n    573 \n",
      "/Users/CIDER/anaconda/lib/python3.5/site-packages/pandas/io/sql.py in to_sql(self, frame, name, if_exists, index, index_label, schema, chunksize, dtype)\n   1247                          if_exists=if_exists, index_label=index_label,\n   1248                          schema=schema, dtype=dtype)\n-> 1249         table.create()\n   1250         table.insert(chunksize)\n   1251         if (not name.isdigit() and not name.islower()):\n",
      "/Users/CIDER/anaconda/lib/python3.5/site-packages/pandas/io/sql.py in create(self)\n    688 \n    689     def create(self):\n--> 690         if self.exists():\n    691             if self.if_exists == 'fail':\n    692                 raise ValueError(\"Table '%s' already exists.\" % self.name)\n",
      "/Users/CIDER/anaconda/lib/python3.5/site-packages/pandas/io/sql.py in exists(self)\n    676 \n    677     def exists(self):\n--> 678         return self.pd_sql.has_table(self.name, self.schema)\n    679 \n    680     def sql_schema(self):\n",
      "/Users/CIDER/anaconda/lib/python3.5/site-packages/pandas/io/sql.py in has_table(self, name, schema)\n   1275             self.connectable.dialect.has_table,\n   1276             name,\n-> 1277             schema or self.meta.schema,\n   1278         )\n   1279 \n",
      "/Users/CIDER/anaconda/lib/python3.5/site-packages/sqlalchemy/engine/base.py in run_callable(self, callable_, *args, **kwargs)\n   1969 \n   1970         \"\"\"\n-> 1971         with self.contextual_connect() as conn:\n   1972             return conn.run_callable(callable_, *args, **kwargs)\n   1973 \n",
      "/Users/CIDER/anaconda/lib/python3.5/site-packages/sqlalchemy/engine/base.py in contextual_connect(self, close_with_result, **kwargs)\n   2037         return self._connection_cls(\n   2038             self,\n-> 2039             self._wrap_pool_connect(self.pool.connect, None),\n   2040             close_with_result=close_with_result,\n   2041             **kwargs)\n",
      "/Users/CIDER/anaconda/lib/python3.5/site-packages/sqlalchemy/engine/base.py in _wrap_pool_connect(self, fn, connection)\n   2076             if connection is None:\n   2077                 Connection._handle_dbapi_exception_noconnection(\n-> 2078                     e, dialect, self)\n   2079             else:\n   2080                 util.reraise(*sys.exc_info())\n",
      "/Users/CIDER/anaconda/lib/python3.5/site-packages/sqlalchemy/engine/base.py in _handle_dbapi_exception_noconnection(cls, e, dialect, engine)\n   1403             util.raise_from_cause(\n   1404                 sqlalchemy_exception,\n-> 1405                 exc_info\n   1406             )\n   1407         else:\n",
      "/Users/CIDER/anaconda/lib/python3.5/site-packages/sqlalchemy/util/compat.py in raise_from_cause(exception, exc_info)\n    200     exc_type, exc_value, exc_tb = exc_info\n    201     cause = exc_value if exc_value is not exception else None\n--> 202     reraise(type(exception), exception, tb=exc_tb, cause=cause)\n    203 \n    204 if py3k:\n",
      "/Users/CIDER/anaconda/lib/python3.5/site-packages/sqlalchemy/util/compat.py in reraise(tp, value, tb, cause)\n    183             value.__cause__ = cause\n    184         if value.__traceback__ is not tb:\n--> 185             raise value.with_traceback(tb)\n    186         raise value\n    187 \n",
      "/Users/CIDER/anaconda/lib/python3.5/site-packages/sqlalchemy/engine/base.py in _wrap_pool_connect(self, fn, connection)\n   2072         dialect = self.dialect\n   2073         try:\n-> 2074             return fn()\n   2075         except dialect.dbapi.Error as e:\n   2076             if connection is None:\n",
      "/Users/CIDER/anaconda/lib/python3.5/site-packages/sqlalchemy/pool.py in connect(self)\n    374         \"\"\"\n    375         if not self._use_threadlocal:\n--> 376             return _ConnectionFairy._checkout(self)\n    377 \n    378         try:\n",
      "/Users/CIDER/anaconda/lib/python3.5/site-packages/sqlalchemy/pool.py in _checkout(cls, pool, threadconns, fairy)\n    711     def _checkout(cls, pool, threadconns=None, fairy=None):\n    712         if not fairy:\n--> 713             fairy = _ConnectionRecord.checkout(pool)\n    714 \n    715             fairy._pool = pool\n",
      "/Users/CIDER/anaconda/lib/python3.5/site-packages/sqlalchemy/pool.py in checkout(cls, pool)\n    478     @classmethod\n    479     def checkout(cls, pool):\n--> 480         rec = pool._do_get()\n    481         try:\n    482             dbapi_connection = rec.get_connection()\n",
      "/Users/CIDER/anaconda/lib/python3.5/site-packages/sqlalchemy/pool.py in _do_get(self)\n   1058                 except:\n   1059                     with util.safe_reraise():\n-> 1060                         self._dec_overflow()\n   1061             else:\n   1062                 return self._do_get()\n",
      "/Users/CIDER/anaconda/lib/python3.5/site-packages/sqlalchemy/util/langhelpers.py in __exit__(self, type_, value, traceback)\n     58             exc_type, exc_value, exc_tb = self._exc_info\n     59             self._exc_info = None   # remove potential circular references\n---> 60             compat.reraise(exc_type, exc_value, exc_tb)\n     61         else:\n     62             if not compat.py3k and self._exc_info and self._exc_info[1]:\n",
      "/Users/CIDER/anaconda/lib/python3.5/site-packages/sqlalchemy/util/compat.py in reraise(tp, value, tb, cause)\n    184         if value.__traceback__ is not tb:\n    185             raise value.with_traceback(tb)\n--> 186         raise value\n    187 \n    188 else:\n",
      "/Users/CIDER/anaconda/lib/python3.5/site-packages/sqlalchemy/pool.py in _do_get(self)\n   1055             if self._inc_overflow():\n   1056                 try:\n-> 1057                     return self._create_connection()\n   1058                 except:\n   1059                     with util.safe_reraise():\n",
      "/Users/CIDER/anaconda/lib/python3.5/site-packages/sqlalchemy/pool.py in _create_connection(self)\n    321         \"\"\"Called by subclasses to create a new ConnectionRecord.\"\"\"\n    322 \n--> 323         return _ConnectionRecord(self)\n    324 \n    325     def _invalidate(self, connection, exception=None):\n",
      "/Users/CIDER/anaconda/lib/python3.5/site-packages/sqlalchemy/pool.py in __init__(self, pool)\n    447     def __init__(self, pool):\n    448         self.__pool = pool\n--> 449         self.connection = self.__connect()\n    450         self.finalize_callback = deque()\n    451 \n",
      "/Users/CIDER/anaconda/lib/python3.5/site-packages/sqlalchemy/pool.py in __connect(self)\n    605         try:\n    606             self.starttime = time.time()\n--> 607             connection = self.__pool._invoke_creator(self)\n    608             self.__pool.logger.debug(\"Created new connection %r\", connection)\n    609             return connection\n",
      "/Users/CIDER/anaconda/lib/python3.5/site-packages/sqlalchemy/engine/strategies.py in connect(connection_record)\n     95                         if connection is not None:\n     96                             return connection\n---> 97                 return dialect.connect(*cargs, **cparams)\n     98 \n     99             creator = pop_kwarg('creator', connect)\n",
      "/Users/CIDER/anaconda/lib/python3.5/site-packages/sqlalchemy/engine/default.py in connect(self, *cargs, **cparams)\n    383 \n    384     def connect(self, *cargs, **cparams):\n--> 385         return self.dbapi.connect(*cargs, **cparams)\n    386 \n    387     def create_connect_args(self, url):\n",
      "/Users/CIDER/anaconda/lib/python3.5/site-packages/psycopg2/__init__.py in connect(dsn, database, user, password, host, port, connection_factory, cursor_factory, async, **kwargs)\n    162                 for (k, v) in items])\n    163 \n--> 164     conn = _connect(dsn, connection_factory=connection_factory, async=async)\n    165     if cursor_factory is not None:\n    166         conn.cursor_factory = cursor_factory\n",
      "OperationalError: (psycopg2.OperationalError) FATAL:  database \"birth_table\" does not exist\n"
     ]
    }
   ],
   "source": [
    "a.writeTable()"
   ]
  },
  {
   "cell_type": "code",
   "execution_count": null,
   "metadata": {
    "collapsed": true
   },
   "outputs": [],
   "source": []
  }
 ],
 "metadata": {
  "anaconda-cloud": {},
  "kernelspec": {
   "display_name": "Python [conda root]",
   "language": "python",
   "name": "conda-root-py"
  },
  "language_info": {
   "codemirror_mode": {
    "name": "ipython",
    "version": 3
   },
   "file_extension": ".py",
   "mimetype": "text/x-python",
   "name": "python",
   "nbconvert_exporter": "python",
   "pygments_lexer": "ipython3",
   "version": "3.5.2"
  }
 },
 "nbformat": 4,
 "nbformat_minor": 1
}
